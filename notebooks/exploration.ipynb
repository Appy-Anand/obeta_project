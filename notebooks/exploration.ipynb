{
 "cells": [
  {
   "cell_type": "code",
   "id": "742f6c62adc4d337",
   "metadata": {
    "ExecuteTime": {
     "end_time": "2025-01-17T09:46:59.838897Z",
     "start_time": "2025-01-17T09:46:59.331742Z"
    }
   },
   "source": [
    "import pandas as pd\n",
    "\n",
    "from src.constants import PRODUCT_DETAILS_COLUMNS, PRODUCT_DETAILS_SCHEMA, GERMAN_PYTHON_ENCODING, PICK_DATA_COLUMNS"
   ],
   "outputs": [],
   "execution_count": 1
  },
  {
   "cell_type": "code",
   "execution_count": 2,
   "id": "c027c416d6a73815",
   "metadata": {
    "ExecuteTime": {
     "end_time": "2024-10-14T20:16:12.710575Z",
     "start_time": "2024-10-14T20:16:11.789853Z"
    }
   },
   "outputs": [
    {
     "data": {
      "text/html": [
       "<div>\n",
       "<style scoped>\n",
       "    .dataframe tbody tr th:only-of-type {\n",
       "        vertical-align: middle;\n",
       "    }\n",
       "\n",
       "    .dataframe tbody tr th {\n",
       "        vertical-align: top;\n",
       "    }\n",
       "\n",
       "    .dataframe thead th {\n",
       "        text-align: right;\n",
       "    }\n",
       "</style>\n",
       "<table border=\"1\" class=\"dataframe\">\n",
       "  <thead>\n",
       "    <tr style=\"text-align: right;\">\n",
       "      <th></th>\n",
       "      <th>product_id</th>\n",
       "      <th>description</th>\n",
       "      <th>product_group</th>\n",
       "    </tr>\n",
       "  </thead>\n",
       "  <tbody>\n",
       "    <tr>\n",
       "      <th>0</th>\n",
       "      <td>000052</td>\n",
       "      <td>PUNCH II MSW1 1500mm PUN</td>\n",
       "      <td>35_Leuchten</td>\n",
       "    </tr>\n",
       "    <tr>\n",
       "      <th>1</th>\n",
       "      <td>1036628</td>\n",
       "      <td>H05VV-F2X1 5WS 50M</td>\n",
       "      <td>16_Sonderverkäufe</td>\n",
       "    </tr>\n",
       "    <tr>\n",
       "      <th>2</th>\n",
       "      <td>1052053</td>\n",
       "      <td>H07RN-F3G1 100M</td>\n",
       "      <td>16_Sonderverkäufe</td>\n",
       "    </tr>\n",
       "    <tr>\n",
       "      <th>3</th>\n",
       "      <td>110109</td>\n",
       "      <td>SIEM DELTA Doppelta 2S 5TD2111</td>\n",
       "      <td>32_Schalter_Steckvorrichtg</td>\n",
       "    </tr>\n",
       "    <tr>\n",
       "      <th>4</th>\n",
       "      <td>110125</td>\n",
       "      <td>SIEM PLUS Wip Univ ews 5TG7581</td>\n",
       "      <td>32_Schalter_Steckvorrichtg</td>\n",
       "    </tr>\n",
       "    <tr>\n",
       "      <th>...</th>\n",
       "      <td>...</td>\n",
       "      <td>...</td>\n",
       "      <td>...</td>\n",
       "    </tr>\n",
       "    <tr>\n",
       "      <th>2199588</th>\n",
       "      <td>Z53390</td>\n",
       "      <td>ASJ MD300EB NH-Lasttrennlei</td>\n",
       "      <td>34_Verteiler_Schränke</td>\n",
       "    </tr>\n",
       "    <tr>\n",
       "      <th>2199589</th>\n",
       "      <td>Z53392</td>\n",
       "      <td>ASJ MD31B NH-Lasttrennleist</td>\n",
       "      <td>34_Verteiler_Schränke</td>\n",
       "    </tr>\n",
       "    <tr>\n",
       "      <th>2199590</th>\n",
       "      <td>Z53394</td>\n",
       "      <td>ASJ MD31HB NH-Lasttrennleis</td>\n",
       "      <td>34_Verteiler_Schränke</td>\n",
       "    </tr>\n",
       "    <tr>\n",
       "      <th>2199591</th>\n",
       "      <td>Z50507</td>\n",
       "      <td>ABB LLEG124X560MM24 LED LLEG1</td>\n",
       "      <td>37_Leuchtmittel</td>\n",
       "    </tr>\n",
       "    <tr>\n",
       "      <th>2199592</th>\n",
       "      <td>Z52127</td>\n",
       "      <td>ABB SLADCG250MM700 LED SLA DC</td>\n",
       "      <td>37_Leuchtmittel</td>\n",
       "    </tr>\n",
       "  </tbody>\n",
       "</table>\n",
       "<p>2199593 rows × 3 columns</p>\n",
       "</div>"
      ],
      "text/plain": [
       "        product_id                     description               product_group\n",
       "0           000052        PUNCH II MSW1 1500mm PUN                 35_Leuchten\n",
       "1          1036628              H05VV-F2X1 5WS 50M           16_Sonderverkäufe\n",
       "2          1052053                 H07RN-F3G1 100M           16_Sonderverkäufe\n",
       "3           110109  SIEM DELTA Doppelta 2S 5TD2111  32_Schalter_Steckvorrichtg\n",
       "4           110125  SIEM PLUS Wip Univ ews 5TG7581  32_Schalter_Steckvorrichtg\n",
       "...            ...                             ...                         ...\n",
       "2199588     Z53390     ASJ MD300EB NH-Lasttrennlei       34_Verteiler_Schränke\n",
       "2199589     Z53392     ASJ MD31B NH-Lasttrennleist       34_Verteiler_Schränke\n",
       "2199590     Z53394     ASJ MD31HB NH-Lasttrennleis       34_Verteiler_Schränke\n",
       "2199591     Z50507   ABB LLEG124X560MM24 LED LLEG1             37_Leuchtmittel\n",
       "2199592     Z52127   ABB SLADCG250MM700 LED SLA DC             37_Leuchtmittel\n",
       "\n",
       "[2199593 rows x 3 columns]"
      ]
     },
     "execution_count": 2,
     "metadata": {},
     "output_type": "execute_result"
    }
   ],
   "source": [
    "temp_df = pd.read_csv(\n",
    "    \"../data/product_data.csv\",\n",
    "    header=None,\n",
    "    names=PRODUCT_DETAILS_COLUMNS,\n",
    "    engine=\"pyarrow\",\n",
    "    dtype_backend=\"pyarrow\",\n",
    "    encoding=GERMAN_PYTHON_ENCODING\n",
    ")\n",
    "temp_df"
   ]
  },
  {
   "metadata": {
    "ExecuteTime": {
     "end_time": "2025-01-15T15:52:17.623949Z",
     "start_time": "2025-01-15T15:52:17.316549Z"
    }
   },
   "cell_type": "code",
   "source": [
    "temp_df = pd.read_csv(\n",
    "    temp_df = pd.read_csv(\n",
    "    \"../data/product_data.csv\",\n",
    "    header=None,\n",
    "    names=PRODUCT_DETAILS_COLUMNS,\n",
    "    engine=\"pyarrow\",\n",
    "    dtype_backend=\"pyarrow\",\n",
    "    encoding=GERMAN_PYTHON_ENCODING\n",
    ")\n",
    "temp_df"
   ],
   "id": "2050f921ae4a00f7",
   "outputs": [
    {
     "ename": "FileNotFoundError",
     "evalue": "[Errno 2] No such file or directory: '../data/warehouse_section.csv'",
     "output_type": "error",
     "traceback": [
      "\u001B[0;31m---------------------------------------------------------------------------\u001B[0m",
      "\u001B[0;31mFileNotFoundError\u001B[0m                         Traceback (most recent call last)",
      "Cell \u001B[0;32mIn[3], line 1\u001B[0m\n\u001B[0;32m----> 1\u001B[0m temp_df \u001B[38;5;241m=\u001B[39m \u001B[43mpd\u001B[49m\u001B[38;5;241;43m.\u001B[39;49m\u001B[43mread_csv\u001B[49m\u001B[43m(\u001B[49m\n\u001B[1;32m      2\u001B[0m \u001B[43m    \u001B[49m\u001B[38;5;124;43m\"\u001B[39;49m\u001B[38;5;124;43m../data/warehouse_section.csv\u001B[39;49m\u001B[38;5;124;43m\"\u001B[39;49m\u001B[43m,\u001B[49m\n\u001B[1;32m      3\u001B[0m \u001B[43m    \u001B[49m\u001B[43mheader\u001B[49m\u001B[38;5;241;43m=\u001B[39;49m\u001B[38;5;28;43;01mNone\u001B[39;49;00m\u001B[43m,\u001B[49m\n\u001B[1;32m      4\u001B[0m \u001B[43m    \u001B[49m\u001B[43mnames\u001B[49m\u001B[38;5;241;43m=\u001B[39;49m\u001B[43mPRODUCT_DETAILS_COLUMNS\u001B[49m\u001B[43m,\u001B[49m\n\u001B[1;32m      5\u001B[0m \u001B[43m    \u001B[49m\u001B[43mengine\u001B[49m\u001B[38;5;241;43m=\u001B[39;49m\u001B[38;5;124;43m\"\u001B[39;49m\u001B[38;5;124;43mpyarrow\u001B[39;49m\u001B[38;5;124;43m\"\u001B[39;49m\u001B[43m,\u001B[49m\n\u001B[1;32m      6\u001B[0m \u001B[43m    \u001B[49m\u001B[43mdtype_backend\u001B[49m\u001B[38;5;241;43m=\u001B[39;49m\u001B[38;5;124;43m\"\u001B[39;49m\u001B[38;5;124;43mpyarrow\u001B[39;49m\u001B[38;5;124;43m\"\u001B[39;49m\u001B[43m,\u001B[49m\n\u001B[1;32m      7\u001B[0m \u001B[43m    \u001B[49m\u001B[43mencoding\u001B[49m\u001B[38;5;241;43m=\u001B[39;49m\u001B[43mGERMAN_PYTHON_ENCODING\u001B[49m\n\u001B[1;32m      8\u001B[0m \u001B[43m)\u001B[49m\n\u001B[1;32m      9\u001B[0m temp_df\n",
      "File \u001B[0;32m/opt/anaconda3/envs/obeta-group-5/lib/python3.9/site-packages/pandas/io/parsers/readers.py:1026\u001B[0m, in \u001B[0;36mread_csv\u001B[0;34m(filepath_or_buffer, sep, delimiter, header, names, index_col, usecols, dtype, engine, converters, true_values, false_values, skipinitialspace, skiprows, skipfooter, nrows, na_values, keep_default_na, na_filter, verbose, skip_blank_lines, parse_dates, infer_datetime_format, keep_date_col, date_parser, date_format, dayfirst, cache_dates, iterator, chunksize, compression, thousands, decimal, lineterminator, quotechar, quoting, doublequote, escapechar, comment, encoding, encoding_errors, dialect, on_bad_lines, delim_whitespace, low_memory, memory_map, float_precision, storage_options, dtype_backend)\u001B[0m\n\u001B[1;32m   1013\u001B[0m kwds_defaults \u001B[38;5;241m=\u001B[39m _refine_defaults_read(\n\u001B[1;32m   1014\u001B[0m     dialect,\n\u001B[1;32m   1015\u001B[0m     delimiter,\n\u001B[0;32m   (...)\u001B[0m\n\u001B[1;32m   1022\u001B[0m     dtype_backend\u001B[38;5;241m=\u001B[39mdtype_backend,\n\u001B[1;32m   1023\u001B[0m )\n\u001B[1;32m   1024\u001B[0m kwds\u001B[38;5;241m.\u001B[39mupdate(kwds_defaults)\n\u001B[0;32m-> 1026\u001B[0m \u001B[38;5;28;01mreturn\u001B[39;00m \u001B[43m_read\u001B[49m\u001B[43m(\u001B[49m\u001B[43mfilepath_or_buffer\u001B[49m\u001B[43m,\u001B[49m\u001B[43m \u001B[49m\u001B[43mkwds\u001B[49m\u001B[43m)\u001B[49m\n",
      "File \u001B[0;32m/opt/anaconda3/envs/obeta-group-5/lib/python3.9/site-packages/pandas/io/parsers/readers.py:620\u001B[0m, in \u001B[0;36m_read\u001B[0;34m(filepath_or_buffer, kwds)\u001B[0m\n\u001B[1;32m    617\u001B[0m _validate_names(kwds\u001B[38;5;241m.\u001B[39mget(\u001B[38;5;124m\"\u001B[39m\u001B[38;5;124mnames\u001B[39m\u001B[38;5;124m\"\u001B[39m, \u001B[38;5;28;01mNone\u001B[39;00m))\n\u001B[1;32m    619\u001B[0m \u001B[38;5;66;03m# Create the parser.\u001B[39;00m\n\u001B[0;32m--> 620\u001B[0m parser \u001B[38;5;241m=\u001B[39m \u001B[43mTextFileReader\u001B[49m\u001B[43m(\u001B[49m\u001B[43mfilepath_or_buffer\u001B[49m\u001B[43m,\u001B[49m\u001B[43m \u001B[49m\u001B[38;5;241;43m*\u001B[39;49m\u001B[38;5;241;43m*\u001B[39;49m\u001B[43mkwds\u001B[49m\u001B[43m)\u001B[49m\n\u001B[1;32m    622\u001B[0m \u001B[38;5;28;01mif\u001B[39;00m chunksize \u001B[38;5;129;01mor\u001B[39;00m iterator:\n\u001B[1;32m    623\u001B[0m     \u001B[38;5;28;01mreturn\u001B[39;00m parser\n",
      "File \u001B[0;32m/opt/anaconda3/envs/obeta-group-5/lib/python3.9/site-packages/pandas/io/parsers/readers.py:1620\u001B[0m, in \u001B[0;36mTextFileReader.__init__\u001B[0;34m(self, f, engine, **kwds)\u001B[0m\n\u001B[1;32m   1617\u001B[0m     \u001B[38;5;28mself\u001B[39m\u001B[38;5;241m.\u001B[39moptions[\u001B[38;5;124m\"\u001B[39m\u001B[38;5;124mhas_index_names\u001B[39m\u001B[38;5;124m\"\u001B[39m] \u001B[38;5;241m=\u001B[39m kwds[\u001B[38;5;124m\"\u001B[39m\u001B[38;5;124mhas_index_names\u001B[39m\u001B[38;5;124m\"\u001B[39m]\n\u001B[1;32m   1619\u001B[0m \u001B[38;5;28mself\u001B[39m\u001B[38;5;241m.\u001B[39mhandles: IOHandles \u001B[38;5;241m|\u001B[39m \u001B[38;5;28;01mNone\u001B[39;00m \u001B[38;5;241m=\u001B[39m \u001B[38;5;28;01mNone\u001B[39;00m\n\u001B[0;32m-> 1620\u001B[0m \u001B[38;5;28mself\u001B[39m\u001B[38;5;241m.\u001B[39m_engine \u001B[38;5;241m=\u001B[39m \u001B[38;5;28;43mself\u001B[39;49m\u001B[38;5;241;43m.\u001B[39;49m\u001B[43m_make_engine\u001B[49m\u001B[43m(\u001B[49m\u001B[43mf\u001B[49m\u001B[43m,\u001B[49m\u001B[43m \u001B[49m\u001B[38;5;28;43mself\u001B[39;49m\u001B[38;5;241;43m.\u001B[39;49m\u001B[43mengine\u001B[49m\u001B[43m)\u001B[49m\n",
      "File \u001B[0;32m/opt/anaconda3/envs/obeta-group-5/lib/python3.9/site-packages/pandas/io/parsers/readers.py:1880\u001B[0m, in \u001B[0;36mTextFileReader._make_engine\u001B[0;34m(self, f, engine)\u001B[0m\n\u001B[1;32m   1878\u001B[0m     \u001B[38;5;28;01mif\u001B[39;00m \u001B[38;5;124m\"\u001B[39m\u001B[38;5;124mb\u001B[39m\u001B[38;5;124m\"\u001B[39m \u001B[38;5;129;01mnot\u001B[39;00m \u001B[38;5;129;01min\u001B[39;00m mode:\n\u001B[1;32m   1879\u001B[0m         mode \u001B[38;5;241m+\u001B[39m\u001B[38;5;241m=\u001B[39m \u001B[38;5;124m\"\u001B[39m\u001B[38;5;124mb\u001B[39m\u001B[38;5;124m\"\u001B[39m\n\u001B[0;32m-> 1880\u001B[0m \u001B[38;5;28mself\u001B[39m\u001B[38;5;241m.\u001B[39mhandles \u001B[38;5;241m=\u001B[39m \u001B[43mget_handle\u001B[49m\u001B[43m(\u001B[49m\n\u001B[1;32m   1881\u001B[0m \u001B[43m    \u001B[49m\u001B[43mf\u001B[49m\u001B[43m,\u001B[49m\n\u001B[1;32m   1882\u001B[0m \u001B[43m    \u001B[49m\u001B[43mmode\u001B[49m\u001B[43m,\u001B[49m\n\u001B[1;32m   1883\u001B[0m \u001B[43m    \u001B[49m\u001B[43mencoding\u001B[49m\u001B[38;5;241;43m=\u001B[39;49m\u001B[38;5;28;43mself\u001B[39;49m\u001B[38;5;241;43m.\u001B[39;49m\u001B[43moptions\u001B[49m\u001B[38;5;241;43m.\u001B[39;49m\u001B[43mget\u001B[49m\u001B[43m(\u001B[49m\u001B[38;5;124;43m\"\u001B[39;49m\u001B[38;5;124;43mencoding\u001B[39;49m\u001B[38;5;124;43m\"\u001B[39;49m\u001B[43m,\u001B[49m\u001B[43m \u001B[49m\u001B[38;5;28;43;01mNone\u001B[39;49;00m\u001B[43m)\u001B[49m\u001B[43m,\u001B[49m\n\u001B[1;32m   1884\u001B[0m \u001B[43m    \u001B[49m\u001B[43mcompression\u001B[49m\u001B[38;5;241;43m=\u001B[39;49m\u001B[38;5;28;43mself\u001B[39;49m\u001B[38;5;241;43m.\u001B[39;49m\u001B[43moptions\u001B[49m\u001B[38;5;241;43m.\u001B[39;49m\u001B[43mget\u001B[49m\u001B[43m(\u001B[49m\u001B[38;5;124;43m\"\u001B[39;49m\u001B[38;5;124;43mcompression\u001B[39;49m\u001B[38;5;124;43m\"\u001B[39;49m\u001B[43m,\u001B[49m\u001B[43m \u001B[49m\u001B[38;5;28;43;01mNone\u001B[39;49;00m\u001B[43m)\u001B[49m\u001B[43m,\u001B[49m\n\u001B[1;32m   1885\u001B[0m \u001B[43m    \u001B[49m\u001B[43mmemory_map\u001B[49m\u001B[38;5;241;43m=\u001B[39;49m\u001B[38;5;28;43mself\u001B[39;49m\u001B[38;5;241;43m.\u001B[39;49m\u001B[43moptions\u001B[49m\u001B[38;5;241;43m.\u001B[39;49m\u001B[43mget\u001B[49m\u001B[43m(\u001B[49m\u001B[38;5;124;43m\"\u001B[39;49m\u001B[38;5;124;43mmemory_map\u001B[39;49m\u001B[38;5;124;43m\"\u001B[39;49m\u001B[43m,\u001B[49m\u001B[43m \u001B[49m\u001B[38;5;28;43;01mFalse\u001B[39;49;00m\u001B[43m)\u001B[49m\u001B[43m,\u001B[49m\n\u001B[1;32m   1886\u001B[0m \u001B[43m    \u001B[49m\u001B[43mis_text\u001B[49m\u001B[38;5;241;43m=\u001B[39;49m\u001B[43mis_text\u001B[49m\u001B[43m,\u001B[49m\n\u001B[1;32m   1887\u001B[0m \u001B[43m    \u001B[49m\u001B[43merrors\u001B[49m\u001B[38;5;241;43m=\u001B[39;49m\u001B[38;5;28;43mself\u001B[39;49m\u001B[38;5;241;43m.\u001B[39;49m\u001B[43moptions\u001B[49m\u001B[38;5;241;43m.\u001B[39;49m\u001B[43mget\u001B[49m\u001B[43m(\u001B[49m\u001B[38;5;124;43m\"\u001B[39;49m\u001B[38;5;124;43mencoding_errors\u001B[39;49m\u001B[38;5;124;43m\"\u001B[39;49m\u001B[43m,\u001B[49m\u001B[43m \u001B[49m\u001B[38;5;124;43m\"\u001B[39;49m\u001B[38;5;124;43mstrict\u001B[39;49m\u001B[38;5;124;43m\"\u001B[39;49m\u001B[43m)\u001B[49m\u001B[43m,\u001B[49m\n\u001B[1;32m   1888\u001B[0m \u001B[43m    \u001B[49m\u001B[43mstorage_options\u001B[49m\u001B[38;5;241;43m=\u001B[39;49m\u001B[38;5;28;43mself\u001B[39;49m\u001B[38;5;241;43m.\u001B[39;49m\u001B[43moptions\u001B[49m\u001B[38;5;241;43m.\u001B[39;49m\u001B[43mget\u001B[49m\u001B[43m(\u001B[49m\u001B[38;5;124;43m\"\u001B[39;49m\u001B[38;5;124;43mstorage_options\u001B[39;49m\u001B[38;5;124;43m\"\u001B[39;49m\u001B[43m,\u001B[49m\u001B[43m \u001B[49m\u001B[38;5;28;43;01mNone\u001B[39;49;00m\u001B[43m)\u001B[49m\u001B[43m,\u001B[49m\n\u001B[1;32m   1889\u001B[0m \u001B[43m\u001B[49m\u001B[43m)\u001B[49m\n\u001B[1;32m   1890\u001B[0m \u001B[38;5;28;01massert\u001B[39;00m \u001B[38;5;28mself\u001B[39m\u001B[38;5;241m.\u001B[39mhandles \u001B[38;5;129;01mis\u001B[39;00m \u001B[38;5;129;01mnot\u001B[39;00m \u001B[38;5;28;01mNone\u001B[39;00m\n\u001B[1;32m   1891\u001B[0m f \u001B[38;5;241m=\u001B[39m \u001B[38;5;28mself\u001B[39m\u001B[38;5;241m.\u001B[39mhandles\u001B[38;5;241m.\u001B[39mhandle\n",
      "File \u001B[0;32m/opt/anaconda3/envs/obeta-group-5/lib/python3.9/site-packages/pandas/io/common.py:882\u001B[0m, in \u001B[0;36mget_handle\u001B[0;34m(path_or_buf, mode, encoding, compression, memory_map, is_text, errors, storage_options)\u001B[0m\n\u001B[1;32m    873\u001B[0m         handle \u001B[38;5;241m=\u001B[39m \u001B[38;5;28mopen\u001B[39m(\n\u001B[1;32m    874\u001B[0m             handle,\n\u001B[1;32m    875\u001B[0m             ioargs\u001B[38;5;241m.\u001B[39mmode,\n\u001B[0;32m   (...)\u001B[0m\n\u001B[1;32m    878\u001B[0m             newline\u001B[38;5;241m=\u001B[39m\u001B[38;5;124m\"\u001B[39m\u001B[38;5;124m\"\u001B[39m,\n\u001B[1;32m    879\u001B[0m         )\n\u001B[1;32m    880\u001B[0m     \u001B[38;5;28;01melse\u001B[39;00m:\n\u001B[1;32m    881\u001B[0m         \u001B[38;5;66;03m# Binary mode\u001B[39;00m\n\u001B[0;32m--> 882\u001B[0m         handle \u001B[38;5;241m=\u001B[39m \u001B[38;5;28;43mopen\u001B[39;49m\u001B[43m(\u001B[49m\u001B[43mhandle\u001B[49m\u001B[43m,\u001B[49m\u001B[43m \u001B[49m\u001B[43mioargs\u001B[49m\u001B[38;5;241;43m.\u001B[39;49m\u001B[43mmode\u001B[49m\u001B[43m)\u001B[49m\n\u001B[1;32m    883\u001B[0m     handles\u001B[38;5;241m.\u001B[39mappend(handle)\n\u001B[1;32m    885\u001B[0m \u001B[38;5;66;03m# Convert BytesIO or file objects passed with an encoding\u001B[39;00m\n",
      "\u001B[0;31mFileNotFoundError\u001B[0m: [Errno 2] No such file or directory: '../data/warehouse_section.csv'"
     ]
    }
   ],
   "execution_count": 3
  },
  {
   "cell_type": "code",
   "execution_count": 3,
   "id": "f8966d457a89acea",
   "metadata": {
    "ExecuteTime": {
     "end_time": "2024-10-14T20:17:11.332137Z",
     "start_time": "2024-10-14T20:17:09.598487Z"
    }
   },
   "outputs": [
    {
     "data": {
      "text/plain": [
       "product_id       2199593\n",
       "description      1422888\n",
       "product_group         18\n",
       "dtype: int64"
      ]
     },
     "execution_count": 3,
     "metadata": {},
     "output_type": "execute_result"
    }
   ],
   "source": [
    "temp_df.nunique()"
   ]
  },
  {
   "cell_type": "code",
   "execution_count": 2,
   "id": "8478d0df5b5a561f",
   "metadata": {
    "ExecuteTime": {
     "end_time": "2024-10-15T15:53:41.106482Z",
     "start_time": "2024-10-15T15:53:37.425948Z"
    }
   },
   "outputs": [
    {
     "data": {
      "text/html": [
       "<div>\n",
       "<style scoped>\n",
       "    .dataframe tbody tr th:only-of-type {\n",
       "        vertical-align: middle;\n",
       "    }\n",
       "\n",
       "    .dataframe tbody tr th {\n",
       "        vertical-align: top;\n",
       "    }\n",
       "\n",
       "    .dataframe thead th {\n",
       "        text-align: right;\n",
       "    }\n",
       "</style>\n",
       "<table border=\"1\" class=\"dataframe\">\n",
       "  <thead>\n",
       "    <tr style=\"text-align: right;\">\n",
       "      <th></th>\n",
       "      <th>product_id</th>\n",
       "      <th>description</th>\n",
       "      <th>product_group</th>\n",
       "    </tr>\n",
       "  </thead>\n",
       "  <tbody>\n",
       "    <tr>\n",
       "      <th>0</th>\n",
       "      <td>000052</td>\n",
       "      <td>PUNCH II MSW1 1500mm PUN</td>\n",
       "      <td>35_Leuchten</td>\n",
       "    </tr>\n",
       "    <tr>\n",
       "      <th>1</th>\n",
       "      <td>1036628</td>\n",
       "      <td>H05VV-F2X1 5WS 50M</td>\n",
       "      <td>16_Sonderverkäufe</td>\n",
       "    </tr>\n",
       "    <tr>\n",
       "      <th>2</th>\n",
       "      <td>1052053</td>\n",
       "      <td>H07RN-F3G1 100M</td>\n",
       "      <td>16_Sonderverkäufe</td>\n",
       "    </tr>\n",
       "    <tr>\n",
       "      <th>3</th>\n",
       "      <td>110109</td>\n",
       "      <td>SIEM DELTA Doppelta 2S 5TD2111</td>\n",
       "      <td>32_Schalter_Steckvorrichtg</td>\n",
       "    </tr>\n",
       "    <tr>\n",
       "      <th>4</th>\n",
       "      <td>110125</td>\n",
       "      <td>SIEM PLUS Wip Univ ews 5TG7581</td>\n",
       "      <td>32_Schalter_Steckvorrichtg</td>\n",
       "    </tr>\n",
       "  </tbody>\n",
       "</table>\n",
       "</div>"
      ],
      "text/plain": [
       "  product_id                     description               product_group\n",
       "0     000052        PUNCH II MSW1 1500mm PUN                 35_Leuchten\n",
       "1    1036628              H05VV-F2X1 5WS 50M           16_Sonderverkäufe\n",
       "2    1052053                 H07RN-F3G1 100M           16_Sonderverkäufe\n",
       "3     110109  SIEM DELTA Doppelta 2S 5TD2111  32_Schalter_Steckvorrichtg\n",
       "4     110125  SIEM PLUS Wip Univ ews 5TG7581  32_Schalter_Steckvorrichtg"
      ]
     },
     "execution_count": 2,
     "metadata": {},
     "output_type": "execute_result"
    }
   ],
   "source": [
    "product_details_df = pd.read_csv(\n",
    "    \"../data/product_data.csv\",\n",
    "    header=None,\n",
    "    names=PRODUCT_DETAILS_COLUMNS,\n",
    "    dtype=PRODUCT_DETAILS_SCHEMA,\n",
    "    engine=\"pyarrow\",\n",
    "    dtype_backend=\"pyarrow\",\n",
    "    encoding=GERMAN_PYTHON_ENCODING\n",
    ")\n",
    "product_details_df.head()"
   ]
  },
  {
   "cell_type": "code",
   "execution_count": 10,
   "id": "c0e9e6fe70081d5b",
   "metadata": {
    "ExecuteTime": {
     "end_time": "2024-10-15T16:00:12.602119Z",
     "start_time": "2024-10-15T16:00:12.568212Z"
    }
   },
   "outputs": [
    {
     "data": {
      "text/html": [
       "<div>\n",
       "<style scoped>\n",
       "    .dataframe tbody tr th:only-of-type {\n",
       "        vertical-align: middle;\n",
       "    }\n",
       "\n",
       "    .dataframe tbody tr th {\n",
       "        vertical-align: top;\n",
       "    }\n",
       "\n",
       "    .dataframe thead th {\n",
       "        text-align: right;\n",
       "    }\n",
       "</style>\n",
       "<table border=\"1\" class=\"dataframe\">\n",
       "  <thead>\n",
       "    <tr style=\"text-align: right;\">\n",
       "      <th></th>\n",
       "      <th>product_group</th>\n",
       "      <th>count(1)</th>\n",
       "    </tr>\n",
       "  </thead>\n",
       "  <tbody>\n",
       "    <tr>\n",
       "      <th>0</th>\n",
       "      <td>16_Sonderverkäufe</td>\n",
       "      <td>5772</td>\n",
       "    </tr>\n",
       "    <tr>\n",
       "      <th>1</th>\n",
       "      <td>18_Haustechnik_Hausgeräte</td>\n",
       "      <td>38959</td>\n",
       "    </tr>\n",
       "    <tr>\n",
       "      <th>2</th>\n",
       "      <td>19_Werkzeug</td>\n",
       "      <td>79219</td>\n",
       "    </tr>\n",
       "    <tr>\n",
       "      <th>3</th>\n",
       "      <td>2000_Alka_Bürobedarf</td>\n",
       "      <td>78177</td>\n",
       "    </tr>\n",
       "    <tr>\n",
       "      <th>4</th>\n",
       "      <td>20_C-Artikel</td>\n",
       "      <td>279</td>\n",
       "    </tr>\n",
       "    <tr>\n",
       "      <th>5</th>\n",
       "      <td>31_Install.-Befestigungs-Mat.</td>\n",
       "      <td>337184</td>\n",
       "    </tr>\n",
       "    <tr>\n",
       "      <th>6</th>\n",
       "      <td>32_Schalter_Steckvorrichtg</td>\n",
       "      <td>105507</td>\n",
       "    </tr>\n",
       "    <tr>\n",
       "      <th>7</th>\n",
       "      <td>33_Schaltgeräte</td>\n",
       "      <td>557163</td>\n",
       "    </tr>\n",
       "    <tr>\n",
       "      <th>8</th>\n",
       "      <td>34_Verteiler_Schränke</td>\n",
       "      <td>189348</td>\n",
       "    </tr>\n",
       "    <tr>\n",
       "      <th>9</th>\n",
       "      <td>35_Leuchten</td>\n",
       "      <td>446854</td>\n",
       "    </tr>\n",
       "    <tr>\n",
       "      <th>10</th>\n",
       "      <td>36_Entladungs-Leuchten</td>\n",
       "      <td>133575</td>\n",
       "    </tr>\n",
       "    <tr>\n",
       "      <th>11</th>\n",
       "      <td>37_Leuchtmittel</td>\n",
       "      <td>87577</td>\n",
       "    </tr>\n",
       "    <tr>\n",
       "      <th>12</th>\n",
       "      <td>38_Leitungen</td>\n",
       "      <td>3711</td>\n",
       "    </tr>\n",
       "    <tr>\n",
       "      <th>13</th>\n",
       "      <td>39_Metalle</td>\n",
       "      <td>8</td>\n",
       "    </tr>\n",
       "    <tr>\n",
       "      <th>14</th>\n",
       "      <td>40_Sprechen_Schwachstrom</td>\n",
       "      <td>72889</td>\n",
       "    </tr>\n",
       "    <tr>\n",
       "      <th>15</th>\n",
       "      <td>41_Antenne</td>\n",
       "      <td>23142</td>\n",
       "    </tr>\n",
       "    <tr>\n",
       "      <th>16</th>\n",
       "      <td>42_Netzwerktechnik</td>\n",
       "      <td>40228</td>\n",
       "    </tr>\n",
       "    <tr>\n",
       "      <th>17</th>\n",
       "      <td>61_Kataloge</td>\n",
       "      <td>1</td>\n",
       "    </tr>\n",
       "  </tbody>\n",
       "</table>\n",
       "</div>"
      ],
      "text/plain": [
       "                    product_group  count(1)\n",
       "0               16_Sonderverkäufe      5772\n",
       "1       18_Haustechnik_Hausgeräte     38959\n",
       "2                     19_Werkzeug     79219\n",
       "3            2000_Alka_Bürobedarf     78177\n",
       "4                    20_C-Artikel       279\n",
       "5   31_Install.-Befestigungs-Mat.    337184\n",
       "6      32_Schalter_Steckvorrichtg    105507\n",
       "7                 33_Schaltgeräte    557163\n",
       "8           34_Verteiler_Schränke    189348\n",
       "9                     35_Leuchten    446854\n",
       "10         36_Entladungs-Leuchten    133575\n",
       "11                37_Leuchtmittel     87577\n",
       "12                   38_Leitungen      3711\n",
       "13                     39_Metalle         8\n",
       "14       40_Sprechen_Schwachstrom     72889\n",
       "15                     41_Antenne     23142\n",
       "16             42_Netzwerktechnik     40228\n",
       "17                    61_Kataloge         1"
      ]
     },
     "execution_count": 10,
     "metadata": {},
     "output_type": "execute_result"
    }
   ],
   "source": [
    "duckdb.sql(\n",
    "    \"select product_group, count(1) from product_details_df GROUP BY 1\"\n",
    "    \n",
    ").to_df()"
   ]
  },
  {
   "cell_type": "code",
   "execution_count": 7,
   "id": "38d63b0ed47c8de9",
   "metadata": {
    "ExecuteTime": {
     "end_time": "2024-10-15T15:55:48.955773Z",
     "start_time": "2024-10-15T15:55:48.804681Z"
    }
   },
   "outputs": [
    {
     "data": {
      "text/html": [
       "<div>\n",
       "<style scoped>\n",
       "    .dataframe tbody tr th:only-of-type {\n",
       "        vertical-align: middle;\n",
       "    }\n",
       "\n",
       "    .dataframe tbody tr th {\n",
       "        vertical-align: top;\n",
       "    }\n",
       "\n",
       "    .dataframe thead th {\n",
       "        text-align: right;\n",
       "    }\n",
       "</style>\n",
       "<table border=\"1\" class=\"dataframe\">\n",
       "  <thead>\n",
       "    <tr style=\"text-align: right;\">\n",
       "      <th></th>\n",
       "      <th>product_id</th>\n",
       "      <th>description</th>\n",
       "      <th>product_group</th>\n",
       "    </tr>\n",
       "  </thead>\n",
       "  <tbody>\n",
       "    <tr>\n",
       "      <th>0</th>\n",
       "      <td>000052</td>\n",
       "      <td>PUNCH II MSW1 1500mm PUN</td>\n",
       "      <td>35_Leuchten</td>\n",
       "    </tr>\n",
       "    <tr>\n",
       "      <th>1</th>\n",
       "      <td>000073</td>\n",
       "      <td>CW4OEE-830M-L150</td>\n",
       "      <td>35_Leuchten</td>\n",
       "    </tr>\n",
       "    <tr>\n",
       "      <th>2</th>\n",
       "      <td>000213</td>\n",
       "      <td>.WD/D-L.LED/23W-3000K 295x29</td>\n",
       "      <td>35_Leuchten</td>\n",
       "    </tr>\n",
       "    <tr>\n",
       "      <th>3</th>\n",
       "      <td>000288</td>\n",
       "      <td>.BUSCH 553-325-87</td>\n",
       "      <td>35_Leuchten</td>\n",
       "    </tr>\n",
       "    <tr>\n",
       "      <th>4</th>\n",
       "      <td>000289</td>\n",
       "      <td>.BUSCH 553-330-87</td>\n",
       "      <td>35_Leuchten</td>\n",
       "    </tr>\n",
       "    <tr>\n",
       "      <th>...</th>\n",
       "      <td>...</td>\n",
       "      <td>...</td>\n",
       "      <td>...</td>\n",
       "    </tr>\n",
       "    <tr>\n",
       "      <th>446849</th>\n",
       "      <td>X96828</td>\n",
       "      <td>EASYTEC® II Teleskop Abhäng</td>\n",
       "      <td>35_Leuchten</td>\n",
       "    </tr>\n",
       "    <tr>\n",
       "      <th>446850</th>\n",
       "      <td>X97066</td>\n",
       "      <td>SMART LIGHT MOVE FUNKSENSOR</td>\n",
       "      <td>35_Leuchten</td>\n",
       "    </tr>\n",
       "    <tr>\n",
       "      <th>446851</th>\n",
       "      <td>X97085</td>\n",
       "      <td>Wandhalterung für Fernbedie</td>\n",
       "      <td>35_Leuchten</td>\n",
       "    </tr>\n",
       "    <tr>\n",
       "      <th>446852</th>\n",
       "      <td>Z33777</td>\n",
       "      <td>hokal-HLHX/1500 LED 4200 84</td>\n",
       "      <td>35_Leuchten</td>\n",
       "    </tr>\n",
       "    <tr>\n",
       "      <th>446853</th>\n",
       "      <td>Z44605</td>\n",
       "      <td>ARK Pendelleuchten RAL9006</td>\n",
       "      <td>35_Leuchten</td>\n",
       "    </tr>\n",
       "  </tbody>\n",
       "</table>\n",
       "<p>446854 rows × 3 columns</p>\n",
       "</div>"
      ],
      "text/plain": [
       "       product_id                   description product_group\n",
       "0          000052      PUNCH II MSW1 1500mm PUN   35_Leuchten\n",
       "1          000073              CW4OEE-830M-L150   35_Leuchten\n",
       "2          000213  .WD/D-L.LED/23W-3000K 295x29   35_Leuchten\n",
       "3          000288             .BUSCH 553-325-87   35_Leuchten\n",
       "4          000289             .BUSCH 553-330-87   35_Leuchten\n",
       "...           ...                           ...           ...\n",
       "446849     X96828   EASYTEC® II Teleskop Abhäng   35_Leuchten\n",
       "446850     X97066   SMART LIGHT MOVE FUNKSENSOR   35_Leuchten\n",
       "446851     X97085   Wandhalterung für Fernbedie   35_Leuchten\n",
       "446852     Z33777   hokal-HLHX/1500 LED 4200 84   35_Leuchten\n",
       "446853     Z44605    ARK Pendelleuchten RAL9006   35_Leuchten\n",
       "\n",
       "[446854 rows x 3 columns]"
      ]
     },
     "execution_count": 7,
     "metadata": {},
     "output_type": "execute_result"
    }
   ],
   "source": [
    "duckdb.sql(\n",
    "    \"select * from product_details_df where product_group = '35_Leuchten'\"\n",
    ").to_df()"
   ]
  },
  {
   "cell_type": "code",
   "execution_count": 7,
   "id": "4b2f47d27f96b351",
   "metadata": {
    "ExecuteTime": {
     "end_time": "2024-10-14T20:19:06.573674Z",
     "start_time": "2024-10-14T20:19:06.357278Z"
    }
   },
   "outputs": [
    {
     "data": {
      "text/plain": [
       "product_id       0\n",
       "description      0\n",
       "product_group    0\n",
       "dtype: int64"
      ]
     },
     "execution_count": 7,
     "metadata": {},
     "output_type": "execute_result"
    }
   ],
   "source": [
    "product_details_df.isnull().sum()"
   ]
  },
  {
   "cell_type": "code",
   "execution_count": 8,
   "id": "648cb9ac2d7175eb",
   "metadata": {
    "ExecuteTime": {
     "end_time": "2024-10-14T20:20:42.696988Z",
     "start_time": "2024-10-14T20:20:34.985197Z"
    }
   },
   "outputs": [
    {
     "data": {
      "text/html": [
       "<div>\n",
       "<style scoped>\n",
       "    .dataframe tbody tr th:only-of-type {\n",
       "        vertical-align: middle;\n",
       "    }\n",
       "\n",
       "    .dataframe tbody tr th {\n",
       "        vertical-align: top;\n",
       "    }\n",
       "\n",
       "    .dataframe thead th {\n",
       "        text-align: right;\n",
       "    }\n",
       "</style>\n",
       "<table border=\"1\" class=\"dataframe\">\n",
       "  <thead>\n",
       "    <tr style=\"text-align: right;\">\n",
       "      <th></th>\n",
       "      <th>product_id</th>\n",
       "      <th>warehouse_section</th>\n",
       "      <th>origin</th>\n",
       "      <th>order_number</th>\n",
       "      <th>position_in_order</th>\n",
       "      <th>pick_volume</th>\n",
       "      <th>quantity_unit</th>\n",
       "      <th>date</th>\n",
       "    </tr>\n",
       "  </thead>\n",
       "  <tbody>\n",
       "    <tr>\n",
       "      <th>0</th>\n",
       "      <td>000002</td>\n",
       "      <td>SHL</td>\n",
       "      <td>48</td>\n",
       "      <td>07055448</td>\n",
       "      <td>1</td>\n",
       "      <td>29</td>\n",
       "      <td>St</td>\n",
       "      <td>2017-06-30 11:15:24</td>\n",
       "    </tr>\n",
       "    <tr>\n",
       "      <th>1</th>\n",
       "      <td>000002</td>\n",
       "      <td>SHL</td>\n",
       "      <td>48</td>\n",
       "      <td>07055448</td>\n",
       "      <td>1</td>\n",
       "      <td>30</td>\n",
       "      <td>St</td>\n",
       "      <td>2017-06-30 11:22:35</td>\n",
       "    </tr>\n",
       "    <tr>\n",
       "      <th>2</th>\n",
       "      <td>000002</td>\n",
       "      <td>SHL</td>\n",
       "      <td>48</td>\n",
       "      <td>07055448</td>\n",
       "      <td>1</td>\n",
       "      <td>30</td>\n",
       "      <td>St</td>\n",
       "      <td>2017-06-30 12:04:50</td>\n",
       "    </tr>\n",
       "    <tr>\n",
       "      <th>3</th>\n",
       "      <td>000002</td>\n",
       "      <td>SHL</td>\n",
       "      <td>48</td>\n",
       "      <td>07055448</td>\n",
       "      <td>1</td>\n",
       "      <td>20</td>\n",
       "      <td>St</td>\n",
       "      <td>2017-06-30 12:04:51</td>\n",
       "    </tr>\n",
       "    <tr>\n",
       "      <th>4</th>\n",
       "      <td>000002</td>\n",
       "      <td>SHL</td>\n",
       "      <td>48</td>\n",
       "      <td>07055448</td>\n",
       "      <td>1</td>\n",
       "      <td>30</td>\n",
       "      <td>St</td>\n",
       "      <td>2017-06-30 12:05:02</td>\n",
       "    </tr>\n",
       "    <tr>\n",
       "      <th>...</th>\n",
       "      <td>...</td>\n",
       "      <td>...</td>\n",
       "      <td>...</td>\n",
       "      <td>...</td>\n",
       "      <td>...</td>\n",
       "      <td>...</td>\n",
       "      <td>...</td>\n",
       "      <td>...</td>\n",
       "    </tr>\n",
       "    <tr>\n",
       "      <th>33888985</th>\n",
       "      <td>189976</td>\n",
       "      <td>Kabellager</td>\n",
       "      <td>48</td>\n",
       "      <td>06108542</td>\n",
       "      <td>1</td>\n",
       "      <td>30</td>\n",
       "      <td>Mt</td>\n",
       "      <td>2016-12-30 16:29:35</td>\n",
       "    </tr>\n",
       "    <tr>\n",
       "      <th>33888986</th>\n",
       "      <td>V68755</td>\n",
       "      <td>SHL</td>\n",
       "      <td>48</td>\n",
       "      <td>06108742</td>\n",
       "      <td>1</td>\n",
       "      <td>1</td>\n",
       "      <td>St</td>\n",
       "      <td>2016-12-30 16:33:44</td>\n",
       "    </tr>\n",
       "    <tr>\n",
       "      <th>33888987</th>\n",
       "      <td>260573</td>\n",
       "      <td>SHL</td>\n",
       "      <td>48</td>\n",
       "      <td>06108743</td>\n",
       "      <td>2</td>\n",
       "      <td>1</td>\n",
       "      <td>St</td>\n",
       "      <td>2016-12-30 16:34:04</td>\n",
       "    </tr>\n",
       "    <tr>\n",
       "      <th>33888988</th>\n",
       "      <td>451203</td>\n",
       "      <td>SHL</td>\n",
       "      <td>48</td>\n",
       "      <td>06108743</td>\n",
       "      <td>1</td>\n",
       "      <td>1</td>\n",
       "      <td>St</td>\n",
       "      <td>2016-12-30 16:34:04</td>\n",
       "    </tr>\n",
       "    <tr>\n",
       "      <th>33888989</th>\n",
       "      <td>V11016</td>\n",
       "      <td>SHL</td>\n",
       "      <td>48</td>\n",
       "      <td>06108743</td>\n",
       "      <td>3</td>\n",
       "      <td>10</td>\n",
       "      <td>St</td>\n",
       "      <td>2016-12-30 16:34:04</td>\n",
       "    </tr>\n",
       "  </tbody>\n",
       "</table>\n",
       "<p>33888990 rows × 8 columns</p>\n",
       "</div>"
      ],
      "text/plain": [
       "         product_id warehouse_section  origin order_number  position_in_order  \\\n",
       "0            000002               SHL      48     07055448                  1   \n",
       "1            000002               SHL      48     07055448                  1   \n",
       "2            000002               SHL      48     07055448                  1   \n",
       "3            000002               SHL      48     07055448                  1   \n",
       "4            000002               SHL      48     07055448                  1   \n",
       "...             ...               ...     ...          ...                ...   \n",
       "33888985     189976        Kabellager      48     06108542                  1   \n",
       "33888986     V68755               SHL      48     06108742                  1   \n",
       "33888987     260573               SHL      48     06108743                  2   \n",
       "33888988     451203               SHL      48     06108743                  1   \n",
       "33888989     V11016               SHL      48     06108743                  3   \n",
       "\n",
       "          pick_volume quantity_unit                 date  \n",
       "0                  29            St  2017-06-30 11:15:24  \n",
       "1                  30            St  2017-06-30 11:22:35  \n",
       "2                  30            St  2017-06-30 12:04:50  \n",
       "3                  20            St  2017-06-30 12:04:51  \n",
       "4                  30            St  2017-06-30 12:05:02  \n",
       "...               ...           ...                  ...  \n",
       "33888985           30            Mt  2016-12-30 16:29:35  \n",
       "33888986            1            St  2016-12-30 16:33:44  \n",
       "33888987            1            St  2016-12-30 16:34:04  \n",
       "33888988            1            St  2016-12-30 16:34:04  \n",
       "33888989           10            St  2016-12-30 16:34:04  \n",
       "\n",
       "[33888990 rows x 8 columns]"
      ]
     },
     "execution_count": 8,
     "metadata": {},
     "output_type": "execute_result"
    }
   ],
   "source": [
    "temp_df = pd.read_csv(\n",
    "    \"../data/pick_data.csv\",\n",
    "    header=None,\n",
    "    names=PICK_DATA_COLUMNS,\n",
    "    engine=\"pyarrow\",\n",
    "    dtype_backend=\"pyarrow\",\n",
    "    encoding=GERMAN_PYTHON_ENCODING\n",
    ")\n",
    "temp_df"
   ]
  },
  {
   "cell_type": "code",
   "execution_count": 9,
   "id": "a9cdf96fb66d07f4",
   "metadata": {
    "ExecuteTime": {
     "end_time": "2024-10-14T20:21:40.190041Z",
     "start_time": "2024-10-14T20:21:24.296169Z"
    }
   },
   "outputs": [
    {
     "data": {
      "text/plain": [
       "product_id              97317\n",
       "warehouse_section           5\n",
       "origin                      2\n",
       "order_number          6928668\n",
       "position_in_order         340\n",
       "pick_volume              1690\n",
       "quantity_unit               9\n",
       "date                 22874561\n",
       "dtype: int64"
      ]
     },
     "execution_count": 9,
     "metadata": {},
     "output_type": "execute_result"
    }
   ],
   "source": [
    "temp_df.nunique()"
   ]
  },
  {
   "cell_type": "code",
   "execution_count": 10,
   "id": "ff141afc39f627db",
   "metadata": {
    "ExecuteTime": {
     "end_time": "2024-10-14T20:24:56.198099Z",
     "start_time": "2024-10-14T20:24:40.593320Z"
    }
   },
   "outputs": [
    {
     "data": {
      "text/html": [
       "<div>\n",
       "<style scoped>\n",
       "    .dataframe tbody tr th:only-of-type {\n",
       "        vertical-align: middle;\n",
       "    }\n",
       "\n",
       "    .dataframe tbody tr th {\n",
       "        vertical-align: top;\n",
       "    }\n",
       "\n",
       "    .dataframe thead th {\n",
       "        text-align: right;\n",
       "    }\n",
       "</style>\n",
       "<table border=\"1\" class=\"dataframe\">\n",
       "  <thead>\n",
       "    <tr style=\"text-align: right;\">\n",
       "      <th></th>\n",
       "      <th>product_id</th>\n",
       "      <th>warehouse_section</th>\n",
       "      <th>origin</th>\n",
       "      <th>order_number</th>\n",
       "      <th>position_in_order</th>\n",
       "      <th>pick_volume</th>\n",
       "      <th>quantity_unit</th>\n",
       "      <th>date</th>\n",
       "    </tr>\n",
       "  </thead>\n",
       "  <tbody>\n",
       "    <tr>\n",
       "      <th>0</th>\n",
       "      <td>000002</td>\n",
       "      <td>SHL</td>\n",
       "      <td>48</td>\n",
       "      <td>07055448</td>\n",
       "      <td>1</td>\n",
       "      <td>29</td>\n",
       "      <td>St</td>\n",
       "      <td>2017-06-30 11:15:24</td>\n",
       "    </tr>\n",
       "    <tr>\n",
       "      <th>1</th>\n",
       "      <td>000002</td>\n",
       "      <td>SHL</td>\n",
       "      <td>48</td>\n",
       "      <td>07055448</td>\n",
       "      <td>1</td>\n",
       "      <td>30</td>\n",
       "      <td>St</td>\n",
       "      <td>2017-06-30 11:22:35</td>\n",
       "    </tr>\n",
       "    <tr>\n",
       "      <th>2</th>\n",
       "      <td>000002</td>\n",
       "      <td>SHL</td>\n",
       "      <td>48</td>\n",
       "      <td>07055448</td>\n",
       "      <td>1</td>\n",
       "      <td>30</td>\n",
       "      <td>St</td>\n",
       "      <td>2017-06-30 12:04:50</td>\n",
       "    </tr>\n",
       "    <tr>\n",
       "      <th>3</th>\n",
       "      <td>000002</td>\n",
       "      <td>SHL</td>\n",
       "      <td>48</td>\n",
       "      <td>07055448</td>\n",
       "      <td>1</td>\n",
       "      <td>20</td>\n",
       "      <td>St</td>\n",
       "      <td>2017-06-30 12:04:51</td>\n",
       "    </tr>\n",
       "    <tr>\n",
       "      <th>4</th>\n",
       "      <td>000002</td>\n",
       "      <td>SHL</td>\n",
       "      <td>48</td>\n",
       "      <td>07055448</td>\n",
       "      <td>1</td>\n",
       "      <td>30</td>\n",
       "      <td>St</td>\n",
       "      <td>2017-06-30 12:05:02</td>\n",
       "    </tr>\n",
       "  </tbody>\n",
       "</table>\n",
       "</div>"
      ],
      "text/plain": [
       "  product_id warehouse_section origin order_number position_in_order  \\\n",
       "0     000002               SHL     48     07055448                 1   \n",
       "1     000002               SHL     48     07055448                 1   \n",
       "2     000002               SHL     48     07055448                 1   \n",
       "3     000002               SHL     48     07055448                 1   \n",
       "4     000002               SHL     48     07055448                 1   \n",
       "\n",
       "   pick_volume quantity_unit                 date  \n",
       "0           29            St  2017-06-30 11:15:24  \n",
       "1           30            St  2017-06-30 11:22:35  \n",
       "2           30            St  2017-06-30 12:04:50  \n",
       "3           20            St  2017-06-30 12:04:51  \n",
       "4           30            St  2017-06-30 12:05:02  "
      ]
     },
     "execution_count": 10,
     "metadata": {},
     "output_type": "execute_result"
    }
   ],
   "source": [
    "pick_data_df = pd.read_csv(\n",
    "    \"../data/pick_data.csv\",\n",
    "    header=None,\n",
    "    names=PICK_DATA_COLUMNS,\n",
    "    engine=\"pyarrow\",\n",
    "    dtype_backend=\"pyarrow\",\n",
    "    encoding=GERMAN_PYTHON_ENCODING\n",
    ").astype(\n",
    "    {\n",
    "        \"warehouse_section\": \"category\",\n",
    "        \"origin\": \"category\",\n",
    "        \"quantity_unit\": \"category\",\n",
    "        \"position_in_order\": \"category\",\n",
    "        \n",
    "    }\n",
    ")\n",
    "pick_data_df.head()"
   ]
  },
  {
   "cell_type": "code",
   "execution_count": 11,
   "id": "bc69b5b5fff230ee",
   "metadata": {
    "ExecuteTime": {
     "end_time": "2024-10-14T20:25:12.805120Z",
     "start_time": "2024-10-14T20:24:56.264882Z"
    }
   },
   "outputs": [
    {
     "data": {
      "text/plain": [
       "product_id              97317\n",
       "warehouse_section           5\n",
       "origin                      2\n",
       "order_number          6928668\n",
       "position_in_order         340\n",
       "pick_volume              1690\n",
       "quantity_unit               9\n",
       "date                 22874561\n",
       "dtype: int64"
      ]
     },
     "execution_count": 11,
     "metadata": {},
     "output_type": "execute_result"
    }
   ],
   "source": [
    "pick_data_df.nunique()"
   ]
  },
  {
   "cell_type": "code",
   "execution_count": 12,
   "id": "14d89d39391b3cd7",
   "metadata": {
    "ExecuteTime": {
     "end_time": "2024-10-14T20:25:14.684786Z",
     "start_time": "2024-10-14T20:25:12.881914Z"
    }
   },
   "outputs": [
    {
     "data": {
      "text/html": [
       "<div>\n",
       "<style scoped>\n",
       "    .dataframe tbody tr th:only-of-type {\n",
       "        vertical-align: middle;\n",
       "    }\n",
       "\n",
       "    .dataframe tbody tr th {\n",
       "        vertical-align: top;\n",
       "    }\n",
       "\n",
       "    .dataframe thead th {\n",
       "        text-align: right;\n",
       "    }\n",
       "</style>\n",
       "<table border=\"1\" class=\"dataframe\">\n",
       "  <thead>\n",
       "    <tr style=\"text-align: right;\">\n",
       "      <th></th>\n",
       "      <th>pick_volume</th>\n",
       "      <th>date</th>\n",
       "    </tr>\n",
       "  </thead>\n",
       "  <tbody>\n",
       "    <tr>\n",
       "      <th>count</th>\n",
       "      <td>33888990.0</td>\n",
       "      <td>33888990</td>\n",
       "    </tr>\n",
       "    <tr>\n",
       "      <th>mean</th>\n",
       "      <td>61.585141</td>\n",
       "      <td>2016-06-23 20:14:35.986060288</td>\n",
       "    </tr>\n",
       "    <tr>\n",
       "      <th>min</th>\n",
       "      <td>-2000.0</td>\n",
       "      <td>2011-06-23 00:00:01</td>\n",
       "    </tr>\n",
       "    <tr>\n",
       "      <th>25%</th>\n",
       "      <td>1.0</td>\n",
       "      <td>2014-04-22 12:26:30.500000</td>\n",
       "    </tr>\n",
       "    <tr>\n",
       "      <th>50%</th>\n",
       "      <td>5.0</td>\n",
       "      <td>2016-10-17 05:09:38</td>\n",
       "    </tr>\n",
       "    <tr>\n",
       "      <th>75%</th>\n",
       "      <td>23.0</td>\n",
       "      <td>2018-09-25 15:00:33.750000128</td>\n",
       "    </tr>\n",
       "    <tr>\n",
       "      <th>max</th>\n",
       "      <td>200000.0</td>\n",
       "      <td>2020-07-14 11:42:01</td>\n",
       "    </tr>\n",
       "    <tr>\n",
       "      <th>std</th>\n",
       "      <td>365.728643</td>\n",
       "      <td>NaN</td>\n",
       "    </tr>\n",
       "  </tbody>\n",
       "</table>\n",
       "</div>"
      ],
      "text/plain": [
       "       pick_volume                           date\n",
       "count   33888990.0                       33888990\n",
       "mean     61.585141  2016-06-23 20:14:35.986060288\n",
       "min        -2000.0            2011-06-23 00:00:01\n",
       "25%            1.0     2014-04-22 12:26:30.500000\n",
       "50%            5.0            2016-10-17 05:09:38\n",
       "75%           23.0  2018-09-25 15:00:33.750000128\n",
       "max       200000.0            2020-07-14 11:42:01\n",
       "std     365.728643                            NaN"
      ]
     },
     "execution_count": 12,
     "metadata": {},
     "output_type": "execute_result"
    }
   ],
   "source": [
    "pick_data_df.describe()"
   ]
  },
  {
   "cell_type": "code",
   "execution_count": 13,
   "id": "742afdb8f1a35d28",
   "metadata": {
    "ExecuteTime": {
     "end_time": "2024-10-14T20:25:15.155751Z",
     "start_time": "2024-10-14T20:25:14.757554Z"
    }
   },
   "outputs": [
    {
     "data": {
      "text/plain": [
       "product_id           0\n",
       "warehouse_section    0\n",
       "origin               0\n",
       "order_number         0\n",
       "position_in_order    0\n",
       "pick_volume          0\n",
       "quantity_unit        0\n",
       "date                 0\n",
       "dtype: int64"
      ]
     },
     "execution_count": 13,
     "metadata": {},
     "output_type": "execute_result"
    }
   ],
   "source": [
    "pick_data_df.isnull().sum()"
   ]
  },
  {
   "cell_type": "code",
   "execution_count": 14,
   "id": "204584d0e88f5f7d",
   "metadata": {
    "ExecuteTime": {
     "end_time": "2024-10-14T20:25:15.264126Z",
     "start_time": "2024-10-14T20:25:15.251545Z"
    }
   },
   "outputs": [
    {
     "data": {
      "text/plain": [
       "product_id                  string[pyarrow]\n",
       "warehouse_section                  category\n",
       "origin                             category\n",
       "order_number                string[pyarrow]\n",
       "position_in_order                  category\n",
       "pick_volume                  int64[pyarrow]\n",
       "quantity_unit                      category\n",
       "date                 timestamp[ns][pyarrow]\n",
       "dtype: object"
      ]
     },
     "execution_count": 14,
     "metadata": {},
     "output_type": "execute_result"
    }
   ],
   "source": [
    "pick_data_df.dtypes"
   ]
  },
  {
   "cell_type": "code",
   "execution_count": null,
   "id": "599b1514ce71e4d9",
   "metadata": {},
   "outputs": [],
   "source": []
  }
 ],
 "metadata": {
  "kernelspec": {
   "display_name": "ilr",
   "language": "python",
   "name": "python3"
  },
  "language_info": {
   "codemirror_mode": {
    "name": "ipython",
    "version": 3
   },
   "file_extension": ".py",
   "mimetype": "text/x-python",
   "name": "python",
   "nbconvert_exporter": "python",
   "pygments_lexer": "ipython3",
   "version": "3.9.13"
  }
 },
 "nbformat": 4,
 "nbformat_minor": 5
}
